{
 "cells": [
  {
   "cell_type": "markdown",
   "metadata": {},
   "source": [
    "## 1. Create a Guessing Game"
   ]
  },
  {
   "cell_type": "code",
   "execution_count": 1,
   "metadata": {},
   "outputs": [],
   "source": [
    "import random"
   ]
  },
  {
   "cell_type": "code",
   "execution_count": 2,
   "metadata": {},
   "outputs": [],
   "source": [
    "true_number = random.randint(1, 49)"
   ]
  },
  {
   "cell_type": "code",
   "execution_count": 3,
   "metadata": {},
   "outputs": [
    {
     "data": {
      "text/plain": [
       "10"
      ]
     },
     "execution_count": 3,
     "metadata": {},
     "output_type": "execute_result"
    }
   ],
   "source": [
    "true_number"
   ]
  },
  {
   "cell_type": "code",
   "execution_count": 4,
   "metadata": {},
   "outputs": [
    {
     "name": "stdout",
     "output_type": "stream",
     "text": [
      "Enter your guess between 1 and 49: 35\n"
     ]
    }
   ],
   "source": [
    "guess_number = int(input(\"Enter your guess between 1 and 49: \"))\n"
   ]
  },
  {
   "cell_type": "code",
   "execution_count": 5,
   "metadata": {},
   "outputs": [
    {
     "data": {
      "text/plain": [
       "35"
      ]
     },
     "execution_count": 5,
     "metadata": {},
     "output_type": "execute_result"
    }
   ],
   "source": [
    "guess_number"
   ]
  },
  {
   "cell_type": "code",
   "execution_count": 6,
   "metadata": {},
   "outputs": [
    {
     "name": "stdout",
     "output_type": "stream",
     "text": [
      "YOUR GUESS IS HIGH, TRY AGAIN\n",
      "Enter an integer from 1 and 49: 25\n",
      "YOUR GUESS IS HIGH, TRY AGAIN\n",
      "Enter an integer from 1 and 49: 10\n",
      "YOU ARE RIGHT! GOOD JOB!\n"
     ]
    }
   ],
   "source": [
    "while True:\n",
    "    if guess_number == true_number:\n",
    "        print('YOU ARE RIGHT! GOOD JOB!')\n",
    "        break\n",
    "    \n",
    "    elif guess_number < true_number:\n",
    "        print('YOUR GUESS IS LOW, TRY AGAIN')\n",
    "        guess_number = int(input(\"Enter your guess between 1 and 49: \"))\n",
    "              \n",
    "    elif guess_number > true_number:\n",
    "        print('YOUR GUESS IS HIGH, TRY AGAIN')\n",
    "        guess_number = int(input(\"Enter an integer from 1 and 49: \"))\n",
    "  "
   ]
  },
  {
   "cell_type": "code",
   "execution_count": null,
   "metadata": {},
   "outputs": [],
   "source": []
  }
 ],
 "metadata": {
  "kernelspec": {
   "display_name": "Python 3",
   "language": "python",
   "name": "python3"
  },
  "language_info": {
   "codemirror_mode": {
    "name": "ipython",
    "version": 3
   },
   "file_extension": ".py",
   "mimetype": "text/x-python",
   "name": "python",
   "nbconvert_exporter": "python",
   "pygments_lexer": "ipython3",
   "version": "3.7.6"
  }
 },
 "nbformat": 4,
 "nbformat_minor": 2
}
